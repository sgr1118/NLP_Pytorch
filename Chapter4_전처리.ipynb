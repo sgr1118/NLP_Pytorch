{
  "nbformat": 4,
  "nbformat_minor": 0,
  "metadata": {
    "colab": {
      "provenance": [],
      "mount_file_id": "1C83n2Ccc7MacplcfNunxJffyrVwWIXh4",
      "authorship_tag": "ABX9TyPsNBQoAicCNIZTG53s/KWe",
      "include_colab_link": true
    },
    "kernelspec": {
      "name": "python3",
      "display_name": "Python 3"
    },
    "language_info": {
      "name": "python"
    }
  },
  "cells": [
    {
      "cell_type": "markdown",
      "metadata": {
        "id": "view-in-github",
        "colab_type": "text"
      },
      "source": [
        "<a href=\"https://colab.research.google.com/github/sgr1118/NLP_Pytorch/blob/main/Chapter4_%EC%A0%84%EC%B2%98%EB%A6%AC.ipynb\" target=\"_parent\"><img src=\"https://colab.research.google.com/assets/colab-badge.svg\" alt=\"Open In Colab\"/></a>"
      ]
    },
    {
      "cell_type": "markdown",
      "source": [
        "## 4.1 전처리\n",
        "- NLP에서 전처리란 가장 주요한 부분이다. 하지만 아쉽게도 주목도는 낮은 편이다. 자세한 전처리 방법이나 노하우는 잘 공유되지 않는 편이다.\n",
        "\n",
        "### 4.1.1 코퍼스란?\n",
        "- '말뭉치'라도고 불리는 코퍼스는 여러 단어들로 이루어진 문장을 말한다. NLP분야 ML을 수행하여면 훈련 데이터가 필요한데, 보통 이런 다수의 문장으로 구성된 코퍼스가 필요하다.\n",
        "\n",
        "- 한 가지 언어로 구성된 코퍼스는 단일 언어 코퍼스라고 부르고 두 개의 언어로 구성된 코퍼스는 이중 언어 코퍼스라고 부른다. 이보다 더 많은 언어로 구성되 있다면 다중 언어 코퍼스라고 한다. 아래는 번역 데이터에 사용되는 병렬 코퍼스의 예시이다.\n",
        "\n",
        "|영문|한글|\n",
        "|-|-|\n",
        "|I love to go to school.|나는 학교에 가는 것을 좋아한다.|\n",
        "\n",
        "### 4.1.2 전처리 과정 개요 (교재108p 그림 참고) \n",
        "- 이번 자에서는 아래와 같은 과정을 다룬다.\n",
        " - 1. 코퍼스 수집\n",
        " - 2. 정제\n",
        " - 3. 문장 단위 분절\n",
        " - 4. 분절\n",
        " - 5. 병렬 코퍼스 정렬(생력 가능)\n",
        " - 6. 서브워드 분절"
      ],
      "metadata": {
        "id": "5Jz6QBBo_kry"
      }
    },
    {
      "cell_type": "code",
      "source": [
        "!wget https://www.ted.com/robots.txt"
      ],
      "metadata": {
        "colab": {
          "base_uri": "https://localhost:8080/"
        },
        "id": "0wVD9ozMDJ5Z",
        "outputId": "a23db9d4-ced2-441a-a544-ba0db4a43e53"
      },
      "execution_count": 2,
      "outputs": [
        {
          "output_type": "stream",
          "name": "stdout",
          "text": [
            "--2023-02-27 04:07:08--  https://www.ted.com/robots.txt\n",
            "Resolving www.ted.com (www.ted.com)... 151.101.2.133, 151.101.66.133, 151.101.130.133, ...\n",
            "Connecting to www.ted.com (www.ted.com)|151.101.2.133|:443... connected.\n",
            "HTTP request sent, awaiting response... 200 OK\n",
            "Length: 394 [text/plain]\n",
            "Saving to: ‘robots.txt’\n",
            "\n",
            "\rrobots.txt            0%[                    ]       0  --.-KB/s               \rrobots.txt          100%[===================>]     394  --.-KB/s    in 0s      \n",
            "\n",
            "2023-02-27 04:07:09 (12.5 MB/s) - ‘robots.txt’ saved [394/394]\n",
            "\n"
          ]
        }
      ]
    },
    {
      "cell_type": "code",
      "source": [
        "# 크롤링 허용 여부 알아보기\n",
        "!cat robots.txt\n",
        "\n",
        "# 일부 경우에 한하여 Disallow가 되어있는 것을 볼 수 있다."
      ],
      "metadata": {
        "colab": {
          "base_uri": "https://localhost:8080/"
        },
        "id": "R-W5kwprDZCv",
        "outputId": "63f3694b-0bbd-4ed6-cc1d-5eefc029c5f2"
      },
      "execution_count": 3,
      "outputs": [
        {
          "output_type": "stream",
          "name": "stdout",
          "text": [
            "User-agent: *\n",
            "Disallow: /latest\n",
            "Disallow: /latest-talk\n",
            "Disallow: /latest-playlist\n",
            "Disallow: /people\n",
            "Disallow: /profiles\n",
            "Disallow: /conversations\n",
            "Disallow: /themes/rss\n",
            "Disallow: /discussions\n",
            "Disallow: /tpv4\n",
            "\n",
            "User-agent: Baiduspider\n",
            "Disallow: /search\n",
            "Disallow: /latest\n",
            "Disallow: /latest-talk\n",
            "Disallow: /latest-playlist\n",
            "Disallow: /people\n",
            "Disallow: /profiles\n",
            "Disallow: /discussions\n",
            "Disallow: /tpv4\n"
          ]
        }
      ]
    },
    {
      "cell_type": "markdown",
      "source": [
        "## 4.2 코퍼스 수집\n",
        "- 코퍼스를 수집하는 방법은 다양한다. 공개된 데이터를 사용하거나 구매할 수도있다. 크롤링을 통하여 웹사이트에서 가져오는 것도 가능하다. 다양한 웹사이트 크롤링을 수행할 수있다면 다양한 도메인의 코퍼스를 모을 수 있다.\n",
        "\n",
        "### 4.2.1 단일 언어 코퍼스 수집\n",
        "- 가장 쉽게 구할 수 있는 종류의 코퍼스이다. 왜냐하면 인터넷에 널려 있기 때문이다. 하지만 필요에 따른 올바른 도메인의 코퍼스를 수집하여야하고, 사용가능한 형태로 전처리하는 과정이 필요하다.\n",
        "\n",
        "- 다음은 도메인에 따른 대표적인 코퍼스의 수집 방식이다. 또한 ML 대회 플랫폼 사이트인 캐글에도 많은 종류의 데이터셋이 대령 업로드되어 있으니 필요에 따라 내려받아 사용하면 매우 유용하다. 크롤링을 할 때는 해당 사이트의 robots.txt 등을 확인하고 적법한 과정을 거쳐야 한다.\n",
        "\n",
        "- 도메인별 단일 언어 코퍼스 수집 사례\n",
        "\n",
        "|문체|도메인|수집처|정제 난이도|\n",
        "|-|-|-|-|\n",
        "|대화체|일반|채팅 로드|높음|\n",
        "|대화체|일반|블로그|높음|\n",
        "|문어체|시사|뉴스 기사|낮음|\n",
        "|문어체|과학, 교양, 역사 등|Wikipedia|중간|\n",
        "|문어체|과학, 교양, 역사, 서브 컬쳐 등|나무위키|중간|\n",
        "|대화체|일반(각 분야별 게시판 존재)|커뮤니티 사이트|중간|\n",
        "|문어체|일반, 시사|PGR21|중간|\n",
        "|대화체|일반|드라마, 영화 자막|낮음|\n",
        "\n",
        "### 4.2.2 다중 언어 코퍼스 수집\n",
        "- 기계번역을 위한 병렬 코퍼스를 구하기는 단일 언어 코퍼스에 비해 상당히 어렵다. 자막은 저작권이 있는 경우가 많으므로 저작권 관련 정보를 잘 확인해야한다.\n",
        "\n",
        "- 도메인별 다중 언어 코퍼스 수집 사례\n",
        "\n",
        "|문체|도메인|수집처|정제 난이도|정렬 난이도|\n",
        "|-|-|-|-|-|\n",
        "|문어체|시사, 과학 등|OPUS|낮음|중간|\n",
        "|대화체|시사, 교양, 과학 등|TED|낮음|중간|\n",
        "|문어체|시사|중앙일보영자신문|낮음|중간|\n",
        "|문어체|시사|동아일보영자신문|낮음|중간|\n",
        "|문어체|일반|Korean Parallel Data|낮음|낮음|\n",
        "|대화체|일반|드라마, 영화 자막|낮음|중간|\n",
        "\n",
        "- 자막 병렬 코퍼스를 사용할 시 주의점이 있다. 'he', 'she'같은 대명사가 사람 이름 등의 도유 명사로 표현될 때가 많다. 또한 영어는 존댓말이 없기 때문에 아빠를 부르는 대사에는 'you'라고 나오지만 자막은 '아빠'라고 나오기도한다. 하지만 자막을 통해 매우 많은 양의 병렬 코퍼스를 얻을 수 있는 만큼 충분히 감수할 만한 문제점이기도 하다."
      ],
      "metadata": {
        "id": "vfuezcmlCESe"
      }
    },
    {
      "cell_type": "markdown",
      "source": [
        "## 4.3 정제\n",
        "- 정제는 텍스트를 사용하기에 앞서 필수적인 과정이다. 원하는 업무, 분야에 따라 필요한 수준이나 깊이가 다르다. 음성 같은 경우 괄호 또는 특수 기호를 넣으면 안되고 개인 정보같은 민감한 정보들은 제거하거나 변조, 마스킹이 필요하다.\n",
        "\n",
        "### 4.3.1 전각 문자 제거\n",
        "- 대부분 동아시아 언어 문서 또는 숫자, 영자, 기호가 전각 문자일 때가 많다. 이런 경우 일반적으로 사용되는 반각 문자로 변환해주는 작업이 필요하다. 아래 문자들은 대표적인 반각/전각 문자로 혼용되는 대표적인 문자들이다.\n",
        "\n",
        "- !\"#$%&' () *+, _ . / 0123456789 : ; < = > ? @ ABCDEFGHIJKLMNOPQRSTUVWXYZ [\\] ^ _ ' abcdefghijklmnopqrstuvwxyz {|} ~\n",
        "\n",
        "### 4.3.2 대소문자 통일\n",
        "- 일부 영어 코퍼스에서는 약자 등에서의 대소문자 표현이 통일되지 않을 때가 있다. 예를 들어 New York의 줄임말인 NY의 다음과 같이 다양하게 표현할 수 있다.\n",
        "\n",
        "|번호|New York|\n",
        "|-|-|\n",
        "|1|NY|\n",
        "|2|ny|\n",
        "|3|N.Y.|\n",
        "|4|N.Y|\n",
        "\n",
        "- 이런 다양한 표현의 일원화는 하나의 의미를 지니는 여러 단어를 단일 형태로 통일해 희소성을 줄일 수 있다. 하지만 딥러닝 시대에 접어들어 단어 임베딩을 통한 효율적인 표현이 가능해지면서 다양한 단어들을 비슷한 값의 벡터로 나타낼 수 있게되어 대소문자 통일과 같은(전체 코퍼스에서 차지하는 비중이 낮은) 문제를 해결할 필요성이 줄어들게되었다.\n",
        "\n",
        "### 4.3.3 정규 표현식을 사용한 정제\n",
        "- 크롤링을 통해 얻어낸 다량의 코퍼스는 보통 특수 문자, 기호 등에 의해 노이즈가 섞일 때가 많다. 또한, 웹사이트의 성격에 따라 일정한 패턴을 지니는 경우도 많다.이러한 노이즈들을 효율적으로 감지하고 없애려면 인덱스의 사용은 필수다.\n",
        "\n",
        "- 전처리 시각화 사이트 : https://regexper.com/\n",
        "- 전처리 연습 사이트 : https://regexr.com/\n",
        "\n",
        "1. [] 사용\n",
        "- 다음 정규 표현식은 '2 or 3 or 4 or 5 or c or d or e'와 같은 의미를 가진다.\n",
        "- [2345cde] or (2|3|4|5|c|d|e)\n",
        "\n",
        "2. - 사용\n",
        "- 앞의 정규 표현식에서 연속된 숫자 또는 알파벳을 하나 하나 전부 적는 비효율적이다. 이때 '-'를 사용하면 연속된 숫자 또는 알파벳들을 표현할 수 있다.\n",
        "- [2-5c-e]\n",
        "\n",
        "3. [^] 사용\n",
        "- Not을 기호 '^'를 써서 표현할 수 있다. 2~5까지 c~e까지를 제외한 정규표현식은 다음과 같다.\n",
        "- [^2-5c-e]\n",
        "\n",
        "4. () 사용\n",
        "- 괄호를 이용하여 그룹을 만들 수 있다.\n",
        "- (x)(yz)\n",
        "\n",
        "5. | 사용\n",
        "- '또는'에 해당하는 or\n",
        "- (x|y)\n",
        "\n",
        "6. ?, *, + 사용\n",
        "- 앞의 수식하는 부분이 한 번 이상 나타날 경우 '+'사용\n",
        "- x+\n",
        "\n",
        "- 앞의 수식하는 부분이 나타나지 않거나 여러 번 나타날 경우 '*' 사용\n",
        "- x*\n",
        "\n",
        "7. {n}, {n,}, {n,m} 사용\n",
        "- 앞에서 살펴본 반복 여부에 대한 정규 표현식도 중요하지만, 정확하게 반복 횟수의 범위를 알고 싶다면 다음 방법을 사용하는 편이 좋다.\n",
        "- x{n} : x가 n번 반복될 때\n",
        "- x{n,} : x가 n번 이상 반복될 때\n",
        "- x{n,m} : x가 n ~ m번 사이를 반복할 때\n",
        "\n",
        "8. . 사용\n",
        "- '.'은 매우 강력한 표현이다. 그 어떤 글자도 '.'에 포함될 수 있다.\n",
        "\n",
        "9. ^와 $ 사용\n",
        "- '^'은 라인의 시작을 '$'은 라인의 종료를 말하며 이 조건에서 거를 내용을 추출할 수 있다.\n",
        "- ^x$\n",
        "\n",
        "|지정 문자 사용|\n",
        "- 이외에도 지정 문자를 사용하여 비슷한 유형의 글자들을 표현 가능하다.\n",
        "\n",
        "|지정 문자|설명|\n",
        "|-|-|\n",
        "|\\s|공백 문자|\n",
        "|\\S|공백 문자를 제외한 모든 문자|\n",
        "|\\w|알파벳 + 숫자 + '_'([A-Za-z0-9_]와 같다.)|\n",
        "|\\W|[^A-Za-z0-9_]와 같다.|\n",
        "|\\d|[0-9]와 같다|\n",
        "|\\D|[^0-9]와 같다.|\n",
        "\n",
        "|예제|\n",
        "- 실제 예를 통하여 알아보자. 다음과 같이 개인 정보를 포함한 데이터에서 개인 정보를 제외하고 사용하고자 한다. 무턱대고 마지막 줄을 지우자니 전화번호가 없는 경우도 많기 때문에 선택적으로 지워야 한다. 아래 텍스트는 이런 규칙을 따르는 듯 하다. (교재 118p 정규표현식 적용 과정 그림 참고)\n",
        "\n",
        "- Hello Ki, I would like to introduce regular expression inthis setion.\n",
        "- ~~\n",
        "- Thank you!\n",
        "- Sincerely,\n",
        "- Ki : +82-10-1234-5678\n",
        "\n",
        "- 이름이 전화번호 앞에 나올 수도 있다.\n",
        "- 이름 뒤에는 콜론(:)이 나올 수도 있다.\n",
        "- 콜론 앞/뒤로 (탭을 포함한) 공백이 다수 존재할 것이다.\n",
        "- 전화번호는 국가번호를 포함할 수 있다.\n",
        "- 국가번호는 최대 3자리이다.\n",
        "- 국가번호 앞에는 '+'가 붙을 수도 있다.\n",
        "- 전화번호 사이에 '-'가 들어갈 수 있다.\n",
        "- 전화번호는 빈칸 없이 표현된다.\n",
        "- 전화번호는 맨 앞과 지역번호(또는 010)의 다음에는 괄호가 들어갈 수 있다.\n",
        "- 괄호는 한쪽만 나올 수도 있다.\n",
        "- 지역번호 자리의 맨 처음에 나오는 0은 빠질 수도 있다. 즉, 2자리가 될 수도 있다.\n",
        "- 지역번호 다음 그룹은 3에서 4자리 숫자이다.\n",
        "- 마지막은 항상 4자리 숫자이다.\n",
        "\n",
        "- 이 규칙에 맞게 정규표현식을 완성하면 다음과 같다.\n",
        "- ([\\w]+\\s*:?\\s*)?\\(?\\+?([0-9]{1,3})?\\-?[0-9]{2,3}(\\)|\\-)?[0-9]{3,4}\\-?[0-9]{4}\n"
      ],
      "metadata": {
        "id": "J2godaPoHDXq"
      }
    },
    {
      "cell_type": "markdown",
      "source": [
        "![image.png](data:image/png;base64,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)"
      ],
      "metadata": {
        "id": "Hv09U3elUX-W"
      }
    },
    {
      "cell_type": "markdown",
      "source": [
        "\n",
        "|파이썬에서 정규 표현식 사용|\n",
        "- 파이썬에도 정규 표현식을 사용하여 작업을 수행할 수 있다."
      ],
      "metadata": {
        "id": "3HdFKc4FUTMo"
      }
    },
    {
      "cell_type": "code",
      "source": [
        "import re\n",
        "\n",
        "regex = r'([\\w]+\\s*:?\\s*)?\\(?\\+?([0-9]{1,3})?\\-?[0-9]{2,3}(\\)|\\-)?[0-9]{3,4}\\-?[0-9]{4}'\n",
        "\n",
        "x = 'Ki: +82-10-1234-5678'\n",
        "re.sub(regex, 'REMOVED', x) # 삭제됐음을 확인할 수 있다."
      ],
      "metadata": {
        "colab": {
          "base_uri": "https://localhost:8080/",
          "height": 35
        },
        "id": "R1TvCaBkUMsv",
        "outputId": "20f443a8-a2c2-4a70-f1d1-3d17dc09ffaf"
      },
      "execution_count": 5,
      "outputs": [
        {
          "output_type": "execute_result",
          "data": {
            "text/plain": [
              "'REMOVED'"
            ],
            "application/vnd.google.colaboratory.intrinsic+json": {
              "type": "string"
            }
          },
          "metadata": {},
          "execution_count": 5
        }
      ]
    },
    {
      "cell_type": "markdown",
      "source": [
        "|치환자 사용|\n",
        "- 이때까지 다룬 정규 표현식의 표현만으로도 많은 문제를 해결할 수 있지만, 좀 더 알아보자. 다음과 같은 경우를 다루어 보자.\n",
        "- 문제 : 알파벳(소문자) 사이에 있는 숫자를 제거하시오.\n",
        "\n",
        "a1bc2d, 12ab, a1b, a1, 1a, rlfkr, 12345\n",
        "\n",
        "- [0-9]+로 삭제는 가능하지만 숫자만 있는 경우도 전부 삭제될 것이다. 이때는 치환자를 사용하는 것이 유용하다."
      ],
      "metadata": {
        "id": "fx6wpPT1VChP"
      }
    },
    {
      "cell_type": "code",
      "execution_count": 8,
      "metadata": {
        "id": "38HMhbgt_NWw"
      },
      "outputs": [],
      "source": [
        "# 치환자 사용\n",
        "\n",
        "x = '''a1bc2d, \n",
        "12ab, \n",
        "a1b, \n",
        "a1, \n",
        "1a, \n",
        "rlfkr, \n",
        "12345\n",
        "'''\n",
        "\n",
        "regex = r'([a-z])[0-9]+([a-z])'\n",
        "to = r'\\1\\2'\n",
        "\n",
        "y = '\\n'.join([re.sub(regex, to, x_i) for x_i in x.split('\\n')])"
      ]
    },
    {
      "cell_type": "code",
      "source": [
        "# 결과 학인\n",
        "y"
      ],
      "metadata": {
        "colab": {
          "base_uri": "https://localhost:8080/",
          "height": 35
        },
        "id": "s29qz0uWWO5h",
        "outputId": "9bcd53f7-3871-4514-eade-5d1f776c1c77"
      },
      "execution_count": 9,
      "outputs": [
        {
          "output_type": "execute_result",
          "data": {
            "text/plain": [
              "'abcd, \\n12ab, \\nab, \\na1, \\n1a, \\nrlfkr, \\n12345\\n'"
            ],
            "application/vnd.google.colaboratory.intrinsic+json": {
              "type": "string"
            }
          },
          "metadata": {},
          "execution_count": 9
        }
      ]
    },
    {
      "cell_type": "markdown",
      "source": [
        "## 4.4 문장 단위 분절\n",
        "- 보통 다루려는 문제들은 입력 단위가 문장 단위인 경우가 많다. 즉 대부분의 경우 한 라인에 한 문장만 있어야 한다. 여러 문장이 있거나, 한 문장이 여러 라인에 걸쳐 있는 경우에는 문장 단위 분절이 필요하다.\n",
        "\n",
        "- 단순히 마침표를 기준으로 문장 단위 분절은 제대로된 분절이 잘 되지 않으므로 분절을 도와주는 알고리즘을 사용하는게 좋다. 대표적으로 NLTK가있다.\n",
        "\n",
        "### 4.4.1 문장 단위 분절"
      ],
      "metadata": {
        "id": "2YpNJNCgWjgf"
      }
    },
    {
      "cell_type": "code",
      "source": [
        "# 문장 분절 예시\n",
        "\n",
        "import sys, fileinput, re\n",
        "from nltk.tokenize import sent_tokenize\n",
        "import nltk\n",
        "nltk.download('punkt')\n",
        "\n",
        "if __name__ == \"__main__\":\n",
        "    for line in fileinput.input():\n",
        "        if line.strip() != \"\":\n",
        "            line = re.sub(r'([a-z])\\.([A-Z])', r'\\1. \\2', line.strip())\n",
        "\n",
        "            sentences = sent_tokenize(line.strip())\n",
        "\n",
        "            for s in sentences:\n",
        "                if s != \"\":\n",
        "                    sys.stdout.write(s + \"\\n\")"
      ],
      "metadata": {
        "id": "rofrwOYEf19X"
      },
      "execution_count": null,
      "outputs": []
    },
    {
      "cell_type": "code",
      "source": [
        "cd '/content/drive/MyDrive/Book/NLP Camp/Chapter_4_txt'"
      ],
      "metadata": {
        "colab": {
          "base_uri": "https://localhost:8080/"
        },
        "id": "zE9i4L3Nh27B",
        "outputId": "225fb968-ab0d-40c7-cbe6-03b7c4b7a1fb"
      },
      "execution_count": 12,
      "outputs": [
        {
          "output_type": "stream",
          "name": "stdout",
          "text": [
            "/content/drive/MyDrive/Book/NLP Camp/Chapter_4_txt\n"
          ]
        }
      ]
    },
    {
      "cell_type": "code",
      "source": [
        "# 파일 업로드 확인\n",
        "!ls"
      ],
      "metadata": {
        "colab": {
          "base_uri": "https://localhost:8080/"
        },
        "id": "Fq8MegEah9UT",
        "outputId": "98e1529e-0594-4f07-bfec-11244e1eab78"
      },
      "execution_count": 21,
      "outputs": [
        {
          "output_type": "stream",
          "name": "stdout",
          "text": [
            "input.ko.txt  line_separator  line_separator.py\n"
          ]
        }
      ]
    },
    {
      "cell_type": "code",
      "source": [
        "# 실행\n",
        "\n",
        "!python line_separator.py input.ko.txt"
      ],
      "metadata": {
        "colab": {
          "base_uri": "https://localhost:8080/"
        },
        "id": "EWMFolfXh-O2",
        "outputId": "74e79457-4ebe-4772-9e48-cb7d070ff93d"
      },
      "execution_count": 22,
      "outputs": [
        {
          "output_type": "stream",
          "name": "stdout",
          "text": [
            "[nltk_data] Downloading package punkt to /root/nltk_data...\n",
            "[nltk_data]   Unzipping tokenizers/punkt.zip.\n",
            "자연어처리는 인공지능의 한 줄기 입니다.\n",
            "시퀀스 투 시퀀스의 등장 이후로 딥러닝을 활용한 자연어처리는 새로운 전기를 맞이하게 되었습니다.\n",
            "문장을 받아 단순히 수치로 나타내던 시절을 넘어, 원하는대로 문장을 만들어낼 수 있게 된 것 입니다.\n"
          ]
        }
      ]
    },
    {
      "cell_type": "markdown",
      "source": [
        "### 4.4.2 문장 합치기 및 분절 예제"
      ],
      "metadata": {
        "id": "IvMsrAcViYVT"
      }
    },
    {
      "cell_type": "code",
      "source": [
        "# 문장 합치기 및 분절 예제\n",
        "\n",
        "import sys, fileinput\n",
        "from nltk.tokenize import sent_tokenize\n",
        "\n",
        "if __name__ == \"__main__\":\n",
        "    buf = []\n",
        "\n",
        "    for line in fileinput.input():\n",
        "        if line.strip() != \"\":\n",
        "            buf += [line.strip()]\n",
        "            sentences = sent_tokenize(\" \".join(buf))\n",
        "\n",
        "            if len(sentences) > 1:\n",
        "                buf = sentences[1:]\n",
        "\n",
        "                sys.stdout.write(sentences[0] + '\\n')\n",
        "\n",
        "    sys.stdout.write(\" \".join(buf) + \"\\n\")"
      ],
      "metadata": {
        "id": "WXqpIgk0iwsv"
      },
      "execution_count": null,
      "outputs": []
    },
    {
      "cell_type": "code",
      "source": [
        "# 실행\n",
        "\n",
        "!python combine_line.py input._2ko.txt"
      ],
      "metadata": {
        "colab": {
          "base_uri": "https://localhost:8080/"
        },
        "id": "8qn1doTfkf_G",
        "outputId": "0ed0e475-1e86-4eea-8628-01893691481b"
      },
      "execution_count": 31,
      "outputs": [
        {
          "output_type": "stream",
          "name": "stdout",
          "text": [
            "자연어처리는 인공지능의 한 줄기 입니다.\n",
            "시퀀스 투 시퀀스의 등장 이후로 딥러닝을 활용한 자연어처리는 새로운 전기를 맞이하게 되었습니다.\n",
            "문장을 받아 단순히 수치로 나타내던 시절을 넘어, 원하는대로 문장을 만들어낼 수 있게 된 것 입니다.\n"
          ]
        }
      ]
    },
    {
      "cell_type": "markdown",
      "source": [
        "## 4.5 분절\n",
        "- 우리가 풀고자 하는 문제에 따라 형태소 분석 또는 단순한 분절을 통해 정규화를 수행한다. 특히 띄어쓰기에 대하여 알아보겠다. 한국과 비슷한 문화권인 중국이나 일본은 띄어쓰기가 없다. 그런데 한국어는 띄어쓰기가 중구난방인 경우가 많다. 특히 한국어는 띄어쓰기가 문장 의미 해석에 큰 영향을 끼치지 않으므로 이런 현상은 더 가중된다.\n",
        "\n",
        "- 즉, 띄어쓰기가 이미 됐다하더라고 제각각인 경우가 많기에, 정규화를 해주는 의미로 다시 한번 표준화된 띄어쓰기를 적용하는 과정이 필요하다. 또한, 교착어로써 접사를 어근에서 분리해주는 역할도 하므로 희소성 문제를 해소하기도 한다.\n",
        "\n",
        "- 각 언어별 주요 프로그램\n",
        "\n",
        "|언어|프로그램명|제작 언어|특징|\n",
        "|-|-|-|-|\n",
        "|한국어|Mecab|C++|일어 Mecab을 랩핑했으며, 속도가 가장 빠르나 설치가 종종 까다롭다.|\n",
        "|한국어|KoNLPy|Python Wrapping(복합)|PIP를 통하여 설치 가능하며 사용이 쉬우나 일부 모듈의 경우에는 속도가 느리다.|\n",
        "|일본어|Mecab|C++|속도 빠름|\n",
        "|중국어|Stanford Parser|Java|미 스탠포드에서 개발|\n",
        "|중국어|PKU Parser|Java|북경대에서 개발, 스탠포드 파서와 성능 차이가 거의 없다.|\n",
        "|중국어|Jieba|Python|가장 최근에 개발, 파이썬으로 제작되어 시스템 구성에 용이하다.|\n",
        "\n",
        "- 대부분의 프로그램은 성능이 비슷하나 신조어나 고유 명사를 처리하는 능력은 각 ㅡ로그램의 성능의 차이를 만든다.\n",
        "\n",
        "$$$ 4.5.1 한국어 분절\n",
        "\n",
        "|Mecab|\n",
        "- 한국어 분절에 가장 많이 사용되는 프로그램이다. 다음과 같이 입력하면 설치가 가능하다.\n",
        "\n",
        "|KoNLPy|\n",
        "- KoNLPy는 여러 한국어 형태소 분석기들을 모아높은 랩핑 라이브러리를 제공한다. 이름에서 알 수 있듯이 파이썬으로 구성된 라이브러리를 제공하므로 시스템 연동 및 구성이 용이할 수 있다. 하지만 내부 라이브러리들은 각기 다른 언어(Java, C++ 등)로 이루어져 있어 호환성에 문제가 생기기도 한다."
      ],
      "metadata": {
        "id": "xsmjjyzPm-QE"
      }
    },
    {
      "cell_type": "code",
      "source": [
        "# mecab 설치\n",
        "\n",
        "!curl -s https://raw.githubusercontent.com/teddylee777/machine-learning/master/99-Misc/01-Colab/mecab-colab.sh | bash"
      ],
      "metadata": {
        "id": "hxwu5st5ppD3"
      },
      "execution_count": null,
      "outputs": []
    },
    {
      "cell_type": "code",
      "source": [
        "from konlpy.tag import Okt, Mecab\n",
        "\n",
        "text = '안녕하세요, 반갑습니다!'\n",
        "mecab = Mecab()\n",
        "\n",
        "print(mecab.morphs(text))"
      ],
      "metadata": {
        "colab": {
          "base_uri": "https://localhost:8080/"
        },
        "id": "XGvNREI3qbVm",
        "outputId": "9a9fdfb1-158f-4ad2-91a8-cc94596d344d"
      },
      "execution_count": 38,
      "outputs": [
        {
          "output_type": "stream",
          "name": "stdout",
          "text": [
            "['안녕', '하', '세요', ',', '반갑', '습니다', '!']\n"
          ]
        }
      ]
    },
    {
      "cell_type": "markdown",
      "source": [
        "### 4.5.2 영어 분절\n",
        "\n",
        "|Moses|\n",
        "- 영어는 기본적인 띄어쓰기가 잘 통일되어 있는 편이므로, 띄어쓰기에 대한 큰 정규화 이슈는 없다. 다만 쉼표, 마침표, 인용부호 등을 띄어주어야 한다. Moses에서 제공하는 분절 기능을 통해 이런 처리를 수행합니다. NLTK예전 버젼(3.2.5)에서는 Moses를 포함했으므로 분잘 기능을 제공했다."
      ],
      "metadata": {
        "id": "JIfUeKR4rmba"
      }
    },
    {
      "cell_type": "code",
      "source": [
        "# nltk 3.2.5 버젼 설치\n",
        "\n",
        "!pip install nltk==3.2.5"
      ],
      "metadata": {
        "colab": {
          "base_uri": "https://localhost:8080/",
          "height": 415
        },
        "id": "W1ef4ubislMO",
        "outputId": "28fd2d76-6d41-4fec-bfb9-a0e03d576428"
      },
      "execution_count": 39,
      "outputs": [
        {
          "output_type": "stream",
          "name": "stdout",
          "text": [
            "Looking in indexes: https://pypi.org/simple, https://us-python.pkg.dev/colab-wheels/public/simple/\n",
            "Collecting nltk==3.2.5\n",
            "  Downloading nltk-3.2.5.tar.gz (1.2 MB)\n",
            "\u001b[2K     \u001b[90m━━━━━━━━━━━━━━━━━━━━━━━━━━━━━━━━━━━━━━━━\u001b[0m \u001b[32m1.2/1.2 MB\u001b[0m \u001b[31m17.3 MB/s\u001b[0m eta \u001b[36m0:00:00\u001b[0m\n",
            "\u001b[?25h  Preparing metadata (setup.py) ... \u001b[?25l\u001b[?25hdone\n",
            "Requirement already satisfied: six in /usr/local/lib/python3.8/dist-packages (from nltk==3.2.5) (1.15.0)\n",
            "Building wheels for collected packages: nltk\n",
            "  Building wheel for nltk (setup.py) ... \u001b[?25l\u001b[?25hdone\n",
            "  Created wheel for nltk: filename=nltk-3.2.5-py3-none-any.whl size=1392160 sha256=d1b1dfcb47716d74b41c5e38698218b39dfec78f5927cec3e0fe5cfd0d0a2cca\n",
            "  Stored in directory: /root/.cache/pip/wheels/8e/f8/1e/2d246c37b7be22a286ccfb2570fe8ad37177e883cb06cecae6\n",
            "Successfully built nltk\n",
            "Installing collected packages: nltk\n",
            "  Attempting uninstall: nltk\n",
            "    Found existing installation: nltk 3.7\n",
            "    Uninstalling nltk-3.7:\n",
            "      Successfully uninstalled nltk-3.7\n",
            "Successfully installed nltk-3.2.5\n"
          ]
        },
        {
          "output_type": "display_data",
          "data": {
            "application/vnd.colab-display-data+json": {
              "pip_warning": {
                "packages": [
                  "nltk"
                ]
              }
            }
          },
          "metadata": {}
        }
      ]
    },
    {
      "cell_type": "code",
      "source": [
        "import nltk\n",
        "nltk.download('perluniprops')\n",
        "nltk.download('nonbreaking_prefixes')"
      ],
      "metadata": {
        "colab": {
          "base_uri": "https://localhost:8080/"
        },
        "id": "F3h-0S2CvNme",
        "outputId": "6020e4c6-ed6a-4e30-9537-12565513bd8e"
      },
      "execution_count": 16,
      "outputs": [
        {
          "output_type": "stream",
          "name": "stdout",
          "text": [
            "[nltk_data] Downloading package perluniprops to /root/nltk_data...\n",
            "[nltk_data]   Package perluniprops is already up-to-date!\n",
            "[nltk_data] Downloading package nonbreaking_prefixes to\n",
            "[nltk_data]     /root/nltk_data...\n",
            "[nltk_data]   Unzipping corpora/nonbreaking_prefixes.zip.\n"
          ]
        },
        {
          "output_type": "execute_result",
          "data": {
            "text/plain": [
              "True"
            ]
          },
          "metadata": {},
          "execution_count": 16
        }
      ]
    },
    {
      "cell_type": "code",
      "source": [
        "# Moses 분절 예시\n",
        "\n",
        "import nltk\n",
        "nltk.download('perluniprops')\n",
        "nltk.download('nonbreaking_prefixes')\n",
        "\n",
        "import sys, fileinput\n",
        "from nltk.tokenize.moses import MosesTokenizer\n",
        "\n",
        "t = MosesTokenizer()\n",
        "\n",
        "if __name__ == \"__main__\":\n",
        "    for line in fileinput.input():\n",
        "        if line.strip() != \"\":\n",
        "            tokens = t.tokenize(line.strip(), escape=False)\n",
        "\n",
        "            sys.stdout.write(\" \".join(tokens) + \"\\n\")\n",
        "        else:\n",
        "            sys.stdout.write('\\n')"
      ],
      "metadata": {
        "id": "TRWiZFQrs7SW"
      },
      "execution_count": null,
      "outputs": []
    },
    {
      "cell_type": "code",
      "source": [
        "cd '/content/drive/MyDrive/Book/NLP Camp/Chapter_4_txt'"
      ],
      "metadata": {
        "colab": {
          "base_uri": "https://localhost:8080/"
        },
        "id": "pl-wnzBEtpqv",
        "outputId": "5a2e0d9d-8ef4-4c72-d00e-d8baa480a68a"
      },
      "execution_count": 14,
      "outputs": [
        {
          "output_type": "stream",
          "name": "stdout",
          "text": [
            "/content/drive/MyDrive/Book/NLP Camp/Chapter_4_txt\n"
          ]
        }
      ]
    },
    {
      "cell_type": "code",
      "source": [
        "# 실행\n",
        "\n",
        "!python moses.py input.en.txt"
      ],
      "metadata": {
        "colab": {
          "base_uri": "https://localhost:8080/"
        },
        "id": "yPIhSa_Dtbqj",
        "outputId": "5a326b57-df05-4d5d-ade8-429e074bd987"
      },
      "execution_count": 17,
      "outputs": [
        {
          "output_type": "stream",
          "name": "stdout",
          "text": [
            "[nltk_data] Downloading package perluniprops to /root/nltk_data...\n",
            "[nltk_data]   Package perluniprops is already up-to-date!\n",
            "Natural language processing is one of biggest stream in artificial intelligence , and it becomes very popular after seq2seq 's invention .\n"
          ]
        }
      ]
    },
    {
      "cell_type": "markdown",
      "source": [
        "### 4.5.3 중국어 분절\n",
        "\n",
        "|스탠포드 파서|\n",
        "- 참고사이트 : https://nlp.stanford.edu/software/lex-parser.shtml\n",
        "\n",
        "|JIEBA|\n",
        "- 비교적 늦게 개발되었지만, 성능상으로는 다른 형태소 분석기와 큰 차이가 없다.다만 파이썬으로 구현되었기 때문에 실제 상용화를 배치 시스템을 구현할 때 매우 쉽고 용이하게 사용할 수 있다."
      ],
      "metadata": {
        "id": "gJ_Sja90vrb3"
      }
    },
    {
      "cell_type": "markdown",
      "source": [
        "## 4.6 병렬 코퍼스 정렬\n",
        "- 대부분의 병렬 코퍼스들은 여러 문장 단위로 정렬된다. 예를 들어 영자 신문에서 크롤링한 영어문 뉴스 기사는 한글 뉴스 기사에 맵핑되지만, 문서와 문서 단위의 맵핑일 뿐 문장 대 문장에 관한 정렬은 이루어져 있지 않다. 이런 경우 각각의 문장에 대해 정렬해주어야한다. 그 과정에서 일부 불필요한 문장들을 걸러내야 하고, 문장 간 정렬이 잘 맞지 않는다면 정렬을 재정비하거나 아예 걸러내야 한다.\n",
        "\n",
        "### 4.6.1 병렬 코퍼스 제작 프로세스 개요\n",
        "- 정렬을 수행하기 뒤한 전체 과정을 요약하면 다음과 같다.\n",
        " - 1. 소스 언어와 타깃 언어 사이의 단어 사전을 준비한다.\n",
        " - 2. 만약 준비된 단어 사전이 없다면 다음 작업을 수행한다. 만약 단어 사전이 있다면 7번을 수행한다.\n",
        " - 3. 각 언어에 대해서 코퍼스를 수집 및 정제한다.\n",
        " - 4. 각 언어에 대해서 단어 임베딩 벡터를 구한다.\n",
        " - 5. MUSE를 통해 단어 레벨 번역기를 훈련한다.\n",
        " - 6. 훈련된 단어 레벨 번역기를 통해 두 언어 사이의 단어 사전을 생성한다.\n",
        " - 7. 만들어진 단어 산정을 넣어 Champollion을 통해 기존에 수집된 다중 언어 코퍼스를 정렬한다.\n",
        " - 8. 각 언어에 대해서 단어 사전을 적용하기 위해 알맞은 수준의 분절을 수행한다.\n",
        " - 9. 각 언어에 대해서 정제를 수행한다.\n",
        " - 10. Champollion을 사용하여 병렬 코퍼스를 생성한다.\n",
        "\n",
        "### 4.6.2 사전 생성\n",
        "- 만약 단어 사전이 없다면 구축해야하는데 이때 단어 사전을 자동으로 구축하는 방법이 있다. 페이스북의 MUSE는 병렬 코퍼스가 없는 상황에서 사전을 구축하는 방법과 코드를 제공한다. 각 단일 언어 코퍼스를 통해 구축한 언어별 단어 임베딩 벡터에 대해 다른 언어의 임베딩 벡터와 맵핑시켜 단어 간 번역을 수행할 수 있다. 이는 각 언어별 코퍼스가 많을수록, 임베딩 벡터가 많을수록 더욱 정확해진다. MUSE는 병렬 코퍼스가 없는 상황에서 수행할 수 있기 때문에 비지도학습이라고 할 수 있다.\n",
        "\n",
        "- 이렇게 만들어진 사전은 다음 절에서 CTK의 입력으로 사용되며, CTK은 이 사전을 바탕으로 병렬 코퍼스의 문장 정렬을 수행한다. '<>' 구분 문자로 사용하여 한 라인에 소스 언어의 단어와 타킷 언어의 단어를 표현한다. 물론 잘못 맵칭되는 경우도 있지만 꽤 괜찮은 결과물을 제공한다.\n",
        "\n",
        "### 4.6.3 CTK을 활용한 정렬\n",
        "- CTK(Champollion Toolkit)은 이중 언어 코퍼스의 문장 정렬을 수행하는 오픈소스이다. 이렇게 맵핑되어지는 단어들을 보면 버려지거나, 일대일, 일대다, 다대일 맵핑이 이루어지기도 한다. (교재 130p 예제 참고)\n",
        "\n",
        "- 아래는 CTK을 쉽게 사용하기 위해 파이썬으로 감싼 스크립트 예제이다. 'CTK_ROOT'에 CTK 위치를 지정하여 사용할 수 있다."
      ],
      "metadata": {
        "id": "NP20MFBhwQ9g"
      }
    },
    {
      "cell_type": "code",
      "source": [
        "import sys, argparse, os\n",
        "\n",
        "BIN = CTK_ROOT + \"/bin/champollion\"\n",
        "CMD = \"%s -c %f -d %s %s %s %s\"\n",
        "OMIT = \"omitted\"\n",
        "DIR_PATH = './tmp/'\n",
        "INTERMEDIATE_FN = DIR_PATH + \"tmp.txt\"\n",
        "\n"
      ],
      "metadata": {
        "id": "P5iBv6di1raZ"
      },
      "execution_count": null,
      "outputs": []
    }
  ]
}